{
 "cells": [
  {
   "cell_type": "markdown",
   "id": "71b5675d",
   "metadata": {},
   "source": [
    "# PYTHON STONE PAPER SCISSOR GAME"
   ]
  },
  {
   "cell_type": "code",
   "execution_count": 1,
   "id": "bf62c9e7",
   "metadata": {},
   "outputs": [],
   "source": [
    "import random"
   ]
  },
  {
   "cell_type": "code",
   "execution_count": 2,
   "id": "96cde563",
   "metadata": {},
   "outputs": [],
   "source": [
    "def game(user_input, computer_input,player_name):\n",
    "        if user_input == computer_input:\n",
    "            print(\"its a tie\")\n",
    "        elif user_input == \"stone\" and computer_input == \"scissor\":\n",
    "            print(player_name,\"wins\")\n",
    "        elif user_input == \"paper\" and computer_input == \"stone\":\n",
    "            print(player_name,\"wins\")\n",
    "        elif user_input == \"scissor\" and computer_input == \"paper\":\n",
    "            print(player_name,\"wins\")\n",
    "        else:\n",
    "            print('computer wins')"
   ]
  },
  {
   "cell_type": "code",
   "execution_count": 3,
   "id": "4e87c91e",
   "metadata": {},
   "outputs": [],
   "source": [
    "def play():\n",
    "    lst = [\"stone\",\"paper\",\"scissor\"]\n",
    "    player_name = input(\"enter your name :\")\n",
    "    while True:\n",
    "        user_input = input(f\"{player_name} choose between stone, paper, scissor :\")\n",
    "        if user_input not in lst:\n",
    "            print('invalid option')\n",
    "        else:\n",
    "            computer_input = random.choice(lst)\n",
    "            print(\"computer input:\",computer_input)\n",
    "        game(user_input, computer_input,player_name)  \n",
    "        \n",
    "        print(\"do you want to continue game\")\n",
    "        choice = input(\"select yes or no :\")\n",
    "        if choice == \"yes\":\n",
    "            continue\n",
    "        else:\n",
    "            print('thanks')\n",
    "            break"
   ]
  },
  {
   "cell_type": "code",
   "execution_count": null,
   "id": "b6e23a0e",
   "metadata": {},
   "outputs": [
    {
     "name": "stdout",
     "output_type": "stream",
     "text": [
      "enter your name :vishal\n",
      "vishal choose between stone, paper, scissor :stone\n",
      "computer input: paper\n",
      "computer wins\n",
      "do you want to continue game\n",
      "select yes or no :yes\n",
      "vishal choose between stone, paper, scissor :paper\n",
      "computer input: scissor\n",
      "computer wins\n",
      "do you want to continue game\n"
     ]
    }
   ],
   "source": [
    "play()    #start playing initiating function play()"
   ]
  },
  {
   "cell_type": "code",
   "execution_count": null,
   "id": "3ac97911",
   "metadata": {},
   "outputs": [],
   "source": []
  }
 ],
 "metadata": {
  "kernelspec": {
   "display_name": "Python 3 (ipykernel)",
   "language": "python",
   "name": "python3"
  },
  "language_info": {
   "codemirror_mode": {
    "name": "ipython",
    "version": 3
   },
   "file_extension": ".py",
   "mimetype": "text/x-python",
   "name": "python",
   "nbconvert_exporter": "python",
   "pygments_lexer": "ipython3",
   "version": "3.11.7"
  }
 },
 "nbformat": 4,
 "nbformat_minor": 5
}
